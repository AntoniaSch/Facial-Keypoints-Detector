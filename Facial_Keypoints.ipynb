{
  "nbformat": 4,
  "nbformat_minor": 0,
  "metadata": {
    "colab": {
      "name": "Facial Keypoints.ipynb",
      "version": "0.3.2",
      "provenance": [],
      "collapsed_sections": [],
      "toc_visible": true,
      "include_colab_link": true
    },
    "kernelspec": {
      "name": "python3",
      "display_name": "Python 3"
    }
  },
  "cells": [
    {
      "cell_type": "markdown",
      "metadata": {
        "id": "view-in-github",
        "colab_type": "text"
      },
      "source": [
        "<a href=\"https://colab.research.google.com/github/AntoniaSch/Facial-Keypoints-Detector/blob/master/Facial_Keypoints.ipynb\" target=\"_parent\"><img src=\"https://colab.research.google.com/assets/colab-badge.svg\" alt=\"Open In Colab\"/></a>"
      ]
    },
    {
      "cell_type": "code",
      "metadata": {
        "id": "NIbqWhCTGcwy",
        "colab_type": "code",
        "colab": {}
      },
      "source": [
        "import numpy as np\n",
        "import pandas as pd\n",
        "import matplotlib.pyplot as plt"
      ],
      "execution_count": 0,
      "outputs": []
    },
    {
      "cell_type": "markdown",
      "metadata": {
        "id": "YJWSi-wvsOvT",
        "colab_type": "text"
      },
      "source": [
        "# Loading and exploring the data"
      ]
    },
    {
      "cell_type": "code",
      "metadata": {
        "id": "VPIBFHI8sSr-",
        "colab_type": "code",
        "colab": {}
      },
      "source": [
        "train = pd.read_csv('/content/training.csv')  \n",
        "test = pd.read_csv('/content/test.csv')"
      ],
      "execution_count": 0,
      "outputs": []
    },
    {
      "cell_type": "markdown",
      "metadata": {
        "id": "GwkcB-NCsW-e",
        "colab_type": "text"
      },
      "source": [
        "As we can see in the following our datasets contains values for x and y axis of various keypoints in a face. The last column contains the values of each pixel from the actual face image."
      ]
    },
    {
      "cell_type": "code",
      "metadata": {
        "id": "aDrDcOwsR72H",
        "colab_type": "code",
        "colab": {
          "base_uri": "https://localhost:8080/",
          "height": 1065
        },
        "outputId": "6c6433f7-5a2a-42b8-c319-1ea8df866e5a"
      },
      "source": [
        "train.head().T"
      ],
      "execution_count": 129,
      "outputs": [
        {
          "output_type": "execute_result",
          "data": {
            "text/html": [
              "<div>\n",
              "<style scoped>\n",
              "    .dataframe tbody tr th:only-of-type {\n",
              "        vertical-align: middle;\n",
              "    }\n",
              "\n",
              "    .dataframe tbody tr th {\n",
              "        vertical-align: top;\n",
              "    }\n",
              "\n",
              "    .dataframe thead th {\n",
              "        text-align: right;\n",
              "    }\n",
              "</style>\n",
              "<table border=\"1\" class=\"dataframe\">\n",
              "  <thead>\n",
              "    <tr style=\"text-align: right;\">\n",
              "      <th></th>\n",
              "      <th>0</th>\n",
              "      <th>1</th>\n",
              "      <th>2</th>\n",
              "      <th>3</th>\n",
              "      <th>4</th>\n",
              "    </tr>\n",
              "  </thead>\n",
              "  <tbody>\n",
              "    <tr>\n",
              "      <th>left_eye_center_x</th>\n",
              "      <td>66.0336</td>\n",
              "      <td>64.3329</td>\n",
              "      <td>65.0571</td>\n",
              "      <td>65.2257</td>\n",
              "      <td>66.7253</td>\n",
              "    </tr>\n",
              "    <tr>\n",
              "      <th>left_eye_center_y</th>\n",
              "      <td>39.0023</td>\n",
              "      <td>34.9701</td>\n",
              "      <td>34.9096</td>\n",
              "      <td>37.2618</td>\n",
              "      <td>39.6213</td>\n",
              "    </tr>\n",
              "    <tr>\n",
              "      <th>right_eye_center_x</th>\n",
              "      <td>30.227</td>\n",
              "      <td>29.9493</td>\n",
              "      <td>30.9038</td>\n",
              "      <td>32.0231</td>\n",
              "      <td>32.2448</td>\n",
              "    </tr>\n",
              "    <tr>\n",
              "      <th>right_eye_center_y</th>\n",
              "      <td>36.4217</td>\n",
              "      <td>33.4487</td>\n",
              "      <td>34.9096</td>\n",
              "      <td>37.2618</td>\n",
              "      <td>38.042</td>\n",
              "    </tr>\n",
              "    <tr>\n",
              "      <th>left_eye_inner_corner_x</th>\n",
              "      <td>59.5821</td>\n",
              "      <td>58.8562</td>\n",
              "      <td>59.412</td>\n",
              "      <td>60.0033</td>\n",
              "      <td>58.5659</td>\n",
              "    </tr>\n",
              "    <tr>\n",
              "      <th>left_eye_inner_corner_y</th>\n",
              "      <td>39.6474</td>\n",
              "      <td>35.2743</td>\n",
              "      <td>36.321</td>\n",
              "      <td>39.1272</td>\n",
              "      <td>39.6213</td>\n",
              "    </tr>\n",
              "    <tr>\n",
              "      <th>left_eye_outer_corner_x</th>\n",
              "      <td>73.1303</td>\n",
              "      <td>70.7227</td>\n",
              "      <td>70.9844</td>\n",
              "      <td>72.3147</td>\n",
              "      <td>72.5159</td>\n",
              "    </tr>\n",
              "    <tr>\n",
              "      <th>left_eye_outer_corner_y</th>\n",
              "      <td>39.97</td>\n",
              "      <td>36.1872</td>\n",
              "      <td>36.321</td>\n",
              "      <td>38.381</td>\n",
              "      <td>39.8845</td>\n",
              "    </tr>\n",
              "    <tr>\n",
              "      <th>right_eye_inner_corner_x</th>\n",
              "      <td>36.3566</td>\n",
              "      <td>36.0347</td>\n",
              "      <td>37.6781</td>\n",
              "      <td>37.6186</td>\n",
              "      <td>36.9824</td>\n",
              "    </tr>\n",
              "    <tr>\n",
              "      <th>right_eye_inner_corner_y</th>\n",
              "      <td>37.3894</td>\n",
              "      <td>34.3615</td>\n",
              "      <td>36.321</td>\n",
              "      <td>38.7541</td>\n",
              "      <td>39.0949</td>\n",
              "    </tr>\n",
              "    <tr>\n",
              "      <th>right_eye_outer_corner_x</th>\n",
              "      <td>23.4529</td>\n",
              "      <td>24.4725</td>\n",
              "      <td>24.9764</td>\n",
              "      <td>25.3073</td>\n",
              "      <td>22.5061</td>\n",
              "    </tr>\n",
              "    <tr>\n",
              "      <th>right_eye_outer_corner_y</th>\n",
              "      <td>37.3894</td>\n",
              "      <td>33.1444</td>\n",
              "      <td>36.6032</td>\n",
              "      <td>38.0079</td>\n",
              "      <td>38.3052</td>\n",
              "    </tr>\n",
              "    <tr>\n",
              "      <th>left_eyebrow_inner_end_x</th>\n",
              "      <td>56.9533</td>\n",
              "      <td>53.9874</td>\n",
              "      <td>55.7425</td>\n",
              "      <td>56.4338</td>\n",
              "      <td>57.2496</td>\n",
              "    </tr>\n",
              "    <tr>\n",
              "      <th>left_eyebrow_inner_end_y</th>\n",
              "      <td>29.0336</td>\n",
              "      <td>28.2759</td>\n",
              "      <td>27.5709</td>\n",
              "      <td>30.9299</td>\n",
              "      <td>30.6722</td>\n",
              "    </tr>\n",
              "    <tr>\n",
              "      <th>left_eyebrow_outer_end_x</th>\n",
              "      <td>80.2271</td>\n",
              "      <td>78.6342</td>\n",
              "      <td>78.8874</td>\n",
              "      <td>77.9103</td>\n",
              "      <td>77.7629</td>\n",
              "    </tr>\n",
              "    <tr>\n",
              "      <th>left_eyebrow_outer_end_y</th>\n",
              "      <td>32.2281</td>\n",
              "      <td>30.4059</td>\n",
              "      <td>32.6516</td>\n",
              "      <td>31.6657</td>\n",
              "      <td>31.7372</td>\n",
              "    </tr>\n",
              "    <tr>\n",
              "      <th>right_eyebrow_inner_end_x</th>\n",
              "      <td>40.2276</td>\n",
              "      <td>42.7289</td>\n",
              "      <td>42.1939</td>\n",
              "      <td>41.6715</td>\n",
              "      <td>38.0354</td>\n",
              "    </tr>\n",
              "    <tr>\n",
              "      <th>right_eyebrow_inner_end_y</th>\n",
              "      <td>29.0023</td>\n",
              "      <td>26.146</td>\n",
              "      <td>28.1355</td>\n",
              "      <td>31.05</td>\n",
              "      <td>30.9354</td>\n",
              "    </tr>\n",
              "    <tr>\n",
              "      <th>right_eyebrow_outer_end_x</th>\n",
              "      <td>16.3564</td>\n",
              "      <td>16.8654</td>\n",
              "      <td>16.7912</td>\n",
              "      <td>20.458</td>\n",
              "      <td>15.9259</td>\n",
              "    </tr>\n",
              "    <tr>\n",
              "      <th>right_eyebrow_outer_end_y</th>\n",
              "      <td>29.6475</td>\n",
              "      <td>27.0589</td>\n",
              "      <td>32.0871</td>\n",
              "      <td>29.9093</td>\n",
              "      <td>30.6722</td>\n",
              "    </tr>\n",
              "    <tr>\n",
              "      <th>nose_tip_x</th>\n",
              "      <td>44.4206</td>\n",
              "      <td>48.2063</td>\n",
              "      <td>47.5573</td>\n",
              "      <td>51.8851</td>\n",
              "      <td>43.2995</td>\n",
              "    </tr>\n",
              "    <tr>\n",
              "      <th>nose_tip_y</th>\n",
              "      <td>57.0668</td>\n",
              "      <td>55.6609</td>\n",
              "      <td>53.5389</td>\n",
              "      <td>54.1665</td>\n",
              "      <td>64.8895</td>\n",
              "    </tr>\n",
              "    <tr>\n",
              "      <th>mouth_left_corner_x</th>\n",
              "      <td>61.1953</td>\n",
              "      <td>56.4214</td>\n",
              "      <td>60.8229</td>\n",
              "      <td>65.5989</td>\n",
              "      <td>60.6714</td>\n",
              "    </tr>\n",
              "    <tr>\n",
              "      <th>mouth_left_corner_y</th>\n",
              "      <td>79.9702</td>\n",
              "      <td>76.352</td>\n",
              "      <td>73.0143</td>\n",
              "      <td>72.7037</td>\n",
              "      <td>77.5232</td>\n",
              "    </tr>\n",
              "    <tr>\n",
              "      <th>mouth_right_corner_x</th>\n",
              "      <td>28.6145</td>\n",
              "      <td>35.1224</td>\n",
              "      <td>33.7263</td>\n",
              "      <td>37.2455</td>\n",
              "      <td>31.1918</td>\n",
              "    </tr>\n",
              "    <tr>\n",
              "      <th>mouth_right_corner_y</th>\n",
              "      <td>77.389</td>\n",
              "      <td>76.0477</td>\n",
              "      <td>72.732</td>\n",
              "      <td>74.1955</td>\n",
              "      <td>76.9973</td>\n",
              "    </tr>\n",
              "    <tr>\n",
              "      <th>mouth_center_top_lip_x</th>\n",
              "      <td>43.3126</td>\n",
              "      <td>46.6846</td>\n",
              "      <td>47.2749</td>\n",
              "      <td>50.3032</td>\n",
              "      <td>44.9627</td>\n",
              "    </tr>\n",
              "    <tr>\n",
              "      <th>mouth_center_top_lip_y</th>\n",
              "      <td>72.9355</td>\n",
              "      <td>70.2666</td>\n",
              "      <td>70.1918</td>\n",
              "      <td>70.0917</td>\n",
              "      <td>73.7074</td>\n",
              "    </tr>\n",
              "    <tr>\n",
              "      <th>mouth_center_bottom_lip_x</th>\n",
              "      <td>43.1307</td>\n",
              "      <td>45.4679</td>\n",
              "      <td>47.2749</td>\n",
              "      <td>51.5612</td>\n",
              "      <td>44.2271</td>\n",
              "    </tr>\n",
              "    <tr>\n",
              "      <th>mouth_center_bottom_lip_y</th>\n",
              "      <td>84.4858</td>\n",
              "      <td>85.4802</td>\n",
              "      <td>78.6594</td>\n",
              "      <td>78.2684</td>\n",
              "      <td>86.8712</td>\n",
              "    </tr>\n",
              "    <tr>\n",
              "      <th>Image</th>\n",
              "      <td>238 236 237 238 240 240 239 241 241 243 240 23...</td>\n",
              "      <td>219 215 204 196 204 211 212 200 180 168 178 19...</td>\n",
              "      <td>144 142 159 180 188 188 184 180 167 132 84 59 ...</td>\n",
              "      <td>193 192 193 194 194 194 193 192 168 111 50 12 ...</td>\n",
              "      <td>147 148 160 196 215 214 216 217 219 220 206 18...</td>\n",
              "    </tr>\n",
              "  </tbody>\n",
              "</table>\n",
              "</div>"
            ],
            "text/plain": [
              "                                                                           0  ...                                                  4\n",
              "left_eye_center_x                                                    66.0336  ...                                            66.7253\n",
              "left_eye_center_y                                                    39.0023  ...                                            39.6213\n",
              "right_eye_center_x                                                    30.227  ...                                            32.2448\n",
              "right_eye_center_y                                                   36.4217  ...                                             38.042\n",
              "left_eye_inner_corner_x                                              59.5821  ...                                            58.5659\n",
              "left_eye_inner_corner_y                                              39.6474  ...                                            39.6213\n",
              "left_eye_outer_corner_x                                              73.1303  ...                                            72.5159\n",
              "left_eye_outer_corner_y                                                39.97  ...                                            39.8845\n",
              "right_eye_inner_corner_x                                             36.3566  ...                                            36.9824\n",
              "right_eye_inner_corner_y                                             37.3894  ...                                            39.0949\n",
              "right_eye_outer_corner_x                                             23.4529  ...                                            22.5061\n",
              "right_eye_outer_corner_y                                             37.3894  ...                                            38.3052\n",
              "left_eyebrow_inner_end_x                                             56.9533  ...                                            57.2496\n",
              "left_eyebrow_inner_end_y                                             29.0336  ...                                            30.6722\n",
              "left_eyebrow_outer_end_x                                             80.2271  ...                                            77.7629\n",
              "left_eyebrow_outer_end_y                                             32.2281  ...                                            31.7372\n",
              "right_eyebrow_inner_end_x                                            40.2276  ...                                            38.0354\n",
              "right_eyebrow_inner_end_y                                            29.0023  ...                                            30.9354\n",
              "right_eyebrow_outer_end_x                                            16.3564  ...                                            15.9259\n",
              "right_eyebrow_outer_end_y                                            29.6475  ...                                            30.6722\n",
              "nose_tip_x                                                           44.4206  ...                                            43.2995\n",
              "nose_tip_y                                                           57.0668  ...                                            64.8895\n",
              "mouth_left_corner_x                                                  61.1953  ...                                            60.6714\n",
              "mouth_left_corner_y                                                  79.9702  ...                                            77.5232\n",
              "mouth_right_corner_x                                                 28.6145  ...                                            31.1918\n",
              "mouth_right_corner_y                                                  77.389  ...                                            76.9973\n",
              "mouth_center_top_lip_x                                               43.3126  ...                                            44.9627\n",
              "mouth_center_top_lip_y                                               72.9355  ...                                            73.7074\n",
              "mouth_center_bottom_lip_x                                            43.1307  ...                                            44.2271\n",
              "mouth_center_bottom_lip_y                                            84.4858  ...                                            86.8712\n",
              "Image                      238 236 237 238 240 240 239 241 241 243 240 23...  ...  147 148 160 196 215 214 216 217 219 220 206 18...\n",
              "\n",
              "[31 rows x 5 columns]"
            ]
          },
          "metadata": {
            "tags": []
          },
          "execution_count": 129
        }
      ]
    },
    {
      "cell_type": "code",
      "metadata": {
        "id": "PnxvQh9hZoRW",
        "colab_type": "code",
        "outputId": "315df1f9-d3da-434a-dc79-41a791e86834",
        "colab": {
          "base_uri": "https://localhost:8080/",
          "height": 281
        }
      },
      "source": [
        "train.drop('Image', axis = 1).head()"
      ],
      "execution_count": 130,
      "outputs": [
        {
          "output_type": "execute_result",
          "data": {
            "text/html": [
              "<div>\n",
              "<style scoped>\n",
              "    .dataframe tbody tr th:only-of-type {\n",
              "        vertical-align: middle;\n",
              "    }\n",
              "\n",
              "    .dataframe tbody tr th {\n",
              "        vertical-align: top;\n",
              "    }\n",
              "\n",
              "    .dataframe thead th {\n",
              "        text-align: right;\n",
              "    }\n",
              "</style>\n",
              "<table border=\"1\" class=\"dataframe\">\n",
              "  <thead>\n",
              "    <tr style=\"text-align: right;\">\n",
              "      <th></th>\n",
              "      <th>left_eye_center_x</th>\n",
              "      <th>left_eye_center_y</th>\n",
              "      <th>right_eye_center_x</th>\n",
              "      <th>right_eye_center_y</th>\n",
              "      <th>left_eye_inner_corner_x</th>\n",
              "      <th>left_eye_inner_corner_y</th>\n",
              "      <th>left_eye_outer_corner_x</th>\n",
              "      <th>left_eye_outer_corner_y</th>\n",
              "      <th>right_eye_inner_corner_x</th>\n",
              "      <th>right_eye_inner_corner_y</th>\n",
              "      <th>right_eye_outer_corner_x</th>\n",
              "      <th>right_eye_outer_corner_y</th>\n",
              "      <th>left_eyebrow_inner_end_x</th>\n",
              "      <th>left_eyebrow_inner_end_y</th>\n",
              "      <th>left_eyebrow_outer_end_x</th>\n",
              "      <th>left_eyebrow_outer_end_y</th>\n",
              "      <th>right_eyebrow_inner_end_x</th>\n",
              "      <th>right_eyebrow_inner_end_y</th>\n",
              "      <th>right_eyebrow_outer_end_x</th>\n",
              "      <th>right_eyebrow_outer_end_y</th>\n",
              "      <th>nose_tip_x</th>\n",
              "      <th>nose_tip_y</th>\n",
              "      <th>mouth_left_corner_x</th>\n",
              "      <th>mouth_left_corner_y</th>\n",
              "      <th>mouth_right_corner_x</th>\n",
              "      <th>mouth_right_corner_y</th>\n",
              "      <th>mouth_center_top_lip_x</th>\n",
              "      <th>mouth_center_top_lip_y</th>\n",
              "      <th>mouth_center_bottom_lip_x</th>\n",
              "      <th>mouth_center_bottom_lip_y</th>\n",
              "    </tr>\n",
              "  </thead>\n",
              "  <tbody>\n",
              "    <tr>\n",
              "      <th>0</th>\n",
              "      <td>66.033564</td>\n",
              "      <td>39.002274</td>\n",
              "      <td>30.227008</td>\n",
              "      <td>36.421678</td>\n",
              "      <td>59.582075</td>\n",
              "      <td>39.647423</td>\n",
              "      <td>73.130346</td>\n",
              "      <td>39.969997</td>\n",
              "      <td>36.356571</td>\n",
              "      <td>37.389402</td>\n",
              "      <td>23.452872</td>\n",
              "      <td>37.389402</td>\n",
              "      <td>56.953263</td>\n",
              "      <td>29.033648</td>\n",
              "      <td>80.227128</td>\n",
              "      <td>32.228138</td>\n",
              "      <td>40.227609</td>\n",
              "      <td>29.002322</td>\n",
              "      <td>16.356379</td>\n",
              "      <td>29.647471</td>\n",
              "      <td>44.420571</td>\n",
              "      <td>57.066803</td>\n",
              "      <td>61.195308</td>\n",
              "      <td>79.970165</td>\n",
              "      <td>28.614496</td>\n",
              "      <td>77.388992</td>\n",
              "      <td>43.312602</td>\n",
              "      <td>72.935459</td>\n",
              "      <td>43.130707</td>\n",
              "      <td>84.485774</td>\n",
              "    </tr>\n",
              "    <tr>\n",
              "      <th>1</th>\n",
              "      <td>64.332936</td>\n",
              "      <td>34.970077</td>\n",
              "      <td>29.949277</td>\n",
              "      <td>33.448715</td>\n",
              "      <td>58.856170</td>\n",
              "      <td>35.274349</td>\n",
              "      <td>70.722723</td>\n",
              "      <td>36.187166</td>\n",
              "      <td>36.034723</td>\n",
              "      <td>34.361532</td>\n",
              "      <td>24.472511</td>\n",
              "      <td>33.144443</td>\n",
              "      <td>53.987404</td>\n",
              "      <td>28.275949</td>\n",
              "      <td>78.634213</td>\n",
              "      <td>30.405923</td>\n",
              "      <td>42.728851</td>\n",
              "      <td>26.146043</td>\n",
              "      <td>16.865362</td>\n",
              "      <td>27.058860</td>\n",
              "      <td>48.206298</td>\n",
              "      <td>55.660936</td>\n",
              "      <td>56.421447</td>\n",
              "      <td>76.352000</td>\n",
              "      <td>35.122383</td>\n",
              "      <td>76.047660</td>\n",
              "      <td>46.684596</td>\n",
              "      <td>70.266553</td>\n",
              "      <td>45.467915</td>\n",
              "      <td>85.480170</td>\n",
              "    </tr>\n",
              "    <tr>\n",
              "      <th>2</th>\n",
              "      <td>65.057053</td>\n",
              "      <td>34.909642</td>\n",
              "      <td>30.903789</td>\n",
              "      <td>34.909642</td>\n",
              "      <td>59.412000</td>\n",
              "      <td>36.320968</td>\n",
              "      <td>70.984421</td>\n",
              "      <td>36.320968</td>\n",
              "      <td>37.678105</td>\n",
              "      <td>36.320968</td>\n",
              "      <td>24.976421</td>\n",
              "      <td>36.603221</td>\n",
              "      <td>55.742526</td>\n",
              "      <td>27.570947</td>\n",
              "      <td>78.887368</td>\n",
              "      <td>32.651621</td>\n",
              "      <td>42.193895</td>\n",
              "      <td>28.135453</td>\n",
              "      <td>16.791158</td>\n",
              "      <td>32.087116</td>\n",
              "      <td>47.557263</td>\n",
              "      <td>53.538947</td>\n",
              "      <td>60.822947</td>\n",
              "      <td>73.014316</td>\n",
              "      <td>33.726316</td>\n",
              "      <td>72.732000</td>\n",
              "      <td>47.274947</td>\n",
              "      <td>70.191789</td>\n",
              "      <td>47.274947</td>\n",
              "      <td>78.659368</td>\n",
              "    </tr>\n",
              "    <tr>\n",
              "      <th>3</th>\n",
              "      <td>65.225739</td>\n",
              "      <td>37.261774</td>\n",
              "      <td>32.023096</td>\n",
              "      <td>37.261774</td>\n",
              "      <td>60.003339</td>\n",
              "      <td>39.127179</td>\n",
              "      <td>72.314713</td>\n",
              "      <td>38.380967</td>\n",
              "      <td>37.618643</td>\n",
              "      <td>38.754115</td>\n",
              "      <td>25.307270</td>\n",
              "      <td>38.007903</td>\n",
              "      <td>56.433809</td>\n",
              "      <td>30.929864</td>\n",
              "      <td>77.910261</td>\n",
              "      <td>31.665725</td>\n",
              "      <td>41.671513</td>\n",
              "      <td>31.049990</td>\n",
              "      <td>20.458017</td>\n",
              "      <td>29.909343</td>\n",
              "      <td>51.885078</td>\n",
              "      <td>54.166539</td>\n",
              "      <td>65.598887</td>\n",
              "      <td>72.703722</td>\n",
              "      <td>37.245496</td>\n",
              "      <td>74.195478</td>\n",
              "      <td>50.303165</td>\n",
              "      <td>70.091687</td>\n",
              "      <td>51.561183</td>\n",
              "      <td>78.268383</td>\n",
              "    </tr>\n",
              "    <tr>\n",
              "      <th>4</th>\n",
              "      <td>66.725301</td>\n",
              "      <td>39.621261</td>\n",
              "      <td>32.244810</td>\n",
              "      <td>38.042032</td>\n",
              "      <td>58.565890</td>\n",
              "      <td>39.621261</td>\n",
              "      <td>72.515926</td>\n",
              "      <td>39.884466</td>\n",
              "      <td>36.982380</td>\n",
              "      <td>39.094852</td>\n",
              "      <td>22.506110</td>\n",
              "      <td>38.305237</td>\n",
              "      <td>57.249571</td>\n",
              "      <td>30.672177</td>\n",
              "      <td>77.762945</td>\n",
              "      <td>31.737247</td>\n",
              "      <td>38.035436</td>\n",
              "      <td>30.935382</td>\n",
              "      <td>15.925870</td>\n",
              "      <td>30.672177</td>\n",
              "      <td>43.299534</td>\n",
              "      <td>64.889521</td>\n",
              "      <td>60.671411</td>\n",
              "      <td>77.523239</td>\n",
              "      <td>31.191755</td>\n",
              "      <td>76.997301</td>\n",
              "      <td>44.962748</td>\n",
              "      <td>73.707387</td>\n",
              "      <td>44.227141</td>\n",
              "      <td>86.871166</td>\n",
              "    </tr>\n",
              "  </tbody>\n",
              "</table>\n",
              "</div>"
            ],
            "text/plain": [
              "   left_eye_center_x  ...  mouth_center_bottom_lip_y\n",
              "0          66.033564  ...                  84.485774\n",
              "1          64.332936  ...                  85.480170\n",
              "2          65.057053  ...                  78.659368\n",
              "3          65.225739  ...                  78.268383\n",
              "4          66.725301  ...                  86.871166\n",
              "\n",
              "[5 rows x 30 columns]"
            ]
          },
          "metadata": {
            "tags": []
          },
          "execution_count": 130
        }
      ]
    },
    {
      "cell_type": "markdown",
      "metadata": {
        "id": "on531AGcs1kj",
        "colab_type": "text"
      },
      "source": [
        "When looking for **missing values** we encountered some in three columns of the dataset:"
      ]
    },
    {
      "cell_type": "code",
      "metadata": {
        "id": "vvHnhh48Ho2F",
        "colab_type": "code",
        "outputId": "8121814e-5928-48b3-bd74-8125a13d9b78",
        "colab": {
          "base_uri": "https://localhost:8080/",
          "height": 107
        }
      },
      "source": [
        "train.isnull().any().value_counts()"
      ],
      "execution_count": 131,
      "outputs": [
        {
          "output_type": "execute_result",
          "data": {
            "text/plain": [
              "True     28\n",
              "False     3\n",
              "dtype: int64"
            ]
          },
          "metadata": {
            "tags": []
          },
          "execution_count": 131
        }
      ]
    },
    {
      "cell_type": "markdown",
      "metadata": {
        "id": "pCN5i66RtDrs",
        "colab_type": "text"
      },
      "source": [
        "For Image data the **ffill-method** is quite common as it is filling it with the value in the Forward index or Previous/Back respectively."
      ]
    },
    {
      "cell_type": "code",
      "metadata": {
        "id": "iyNh4nPnHyAl",
        "colab_type": "code",
        "colab": {}
      },
      "source": [
        "train.fillna(method = 'ffill',inplace = True)"
      ],
      "execution_count": 0,
      "outputs": []
    },
    {
      "cell_type": "markdown",
      "metadata": {
        "id": "ThdgFDpBH8pu",
        "colab_type": "text"
      },
      "source": [
        "# Get Image - Data\n",
        "Let's get now one of the 7049 images in our dataset printed! First of all we need to understand the size of the image and 9216 is indicating a 96x96 image."
      ]
    },
    {
      "cell_type": "code",
      "metadata": {
        "id": "rswY-0izt9NF",
        "colab_type": "code",
        "outputId": "e9d29d6d-f455-4c8a-d833-ab78643c2d5f",
        "colab": {
          "base_uri": "https://localhost:8080/",
          "height": 74
        }
      },
      "source": [
        "images = []\n",
        "for i in range(0,7049):\n",
        "    image = train['Image'][i].split(' ')\n",
        "    images.append(image)\n",
        "images = np.array(images,dtype = 'float')\n",
        "images.shape"
      ],
      "execution_count": 133,
      "outputs": [
        {
          "output_type": "execute_result",
          "data": {
            "text/plain": [
              "(7049, 9216)"
            ]
          },
          "metadata": {
            "tags": []
          },
          "execution_count": 133
        }
      ]
    },
    {
      "cell_type": "markdown",
      "metadata": {
        "id": "uY1uKtw4fXN7",
        "colab_type": "text"
      },
      "source": [
        "So we need to reshape the images to proceed to have 7049 samples with 96 x and 96 y values "
      ]
    },
    {
      "cell_type": "code",
      "metadata": {
        "id": "33uYWwqky2nT",
        "colab_type": "code",
        "colab": {
          "base_uri": "https://localhost:8080/",
          "height": 74
        },
        "outputId": "932e7713-212b-43c7-c471-ebf1566a452d"
      },
      "source": [
        "X_train = images.reshape(7049,96,96,1) \n",
        "X_train.shape"
      ],
      "execution_count": 134,
      "outputs": [
        {
          "output_type": "execute_result",
          "data": {
            "text/plain": [
              "(7049, 96, 96, 1)"
            ]
          },
          "metadata": {
            "tags": []
          },
          "execution_count": 134
        }
      ]
    },
    {
      "cell_type": "markdown",
      "metadata": {
        "id": "zEQRyfdHIK8_",
        "colab_type": "text"
      },
      "source": [
        "# Get Label - Data\n",
        "The keypoints are stored in the following Dataframe showing we have 7049 faces with 15 keypoints each and the two corresponding values for x and y axis."
      ]
    },
    {
      "cell_type": "code",
      "metadata": {
        "id": "ceXeZRBGfPXb",
        "colab_type": "code",
        "outputId": "69489047-282a-401d-f89e-3353e0351dbc",
        "colab": {
          "base_uri": "https://localhost:8080/",
          "height": 74
        }
      },
      "source": [
        "keypoints = train.drop(['Image'], axis=1)\n",
        "keypoints.shape"
      ],
      "execution_count": 135,
      "outputs": [
        {
          "output_type": "execute_result",
          "data": {
            "text/plain": [
              "(7049, 30)"
            ]
          },
          "metadata": {
            "tags": []
          },
          "execution_count": 135
        }
      ]
    },
    {
      "cell_type": "code",
      "metadata": {
        "id": "N-URrVFiFgyg",
        "colab_type": "code",
        "colab": {
          "base_uri": "https://localhost:8080/",
          "height": 1006
        },
        "outputId": "69aa77ab-19b2-409a-b399-aa81194f9212"
      },
      "source": [
        "keypoints.head(4).T"
      ],
      "execution_count": 160,
      "outputs": [
        {
          "output_type": "execute_result",
          "data": {
            "text/html": [
              "<div>\n",
              "<style scoped>\n",
              "    .dataframe tbody tr th:only-of-type {\n",
              "        vertical-align: middle;\n",
              "    }\n",
              "\n",
              "    .dataframe tbody tr th {\n",
              "        vertical-align: top;\n",
              "    }\n",
              "\n",
              "    .dataframe thead th {\n",
              "        text-align: right;\n",
              "    }\n",
              "</style>\n",
              "<table border=\"1\" class=\"dataframe\">\n",
              "  <thead>\n",
              "    <tr style=\"text-align: right;\">\n",
              "      <th></th>\n",
              "      <th>0</th>\n",
              "      <th>1</th>\n",
              "      <th>2</th>\n",
              "      <th>3</th>\n",
              "    </tr>\n",
              "  </thead>\n",
              "  <tbody>\n",
              "    <tr>\n",
              "      <th>left_eye_center_x</th>\n",
              "      <td>66.033564</td>\n",
              "      <td>64.332936</td>\n",
              "      <td>65.057053</td>\n",
              "      <td>65.225739</td>\n",
              "    </tr>\n",
              "    <tr>\n",
              "      <th>left_eye_center_y</th>\n",
              "      <td>39.002274</td>\n",
              "      <td>34.970077</td>\n",
              "      <td>34.909642</td>\n",
              "      <td>37.261774</td>\n",
              "    </tr>\n",
              "    <tr>\n",
              "      <th>right_eye_center_x</th>\n",
              "      <td>30.227008</td>\n",
              "      <td>29.949277</td>\n",
              "      <td>30.903789</td>\n",
              "      <td>32.023096</td>\n",
              "    </tr>\n",
              "    <tr>\n",
              "      <th>right_eye_center_y</th>\n",
              "      <td>36.421678</td>\n",
              "      <td>33.448715</td>\n",
              "      <td>34.909642</td>\n",
              "      <td>37.261774</td>\n",
              "    </tr>\n",
              "    <tr>\n",
              "      <th>left_eye_inner_corner_x</th>\n",
              "      <td>59.582075</td>\n",
              "      <td>58.856170</td>\n",
              "      <td>59.412000</td>\n",
              "      <td>60.003339</td>\n",
              "    </tr>\n",
              "    <tr>\n",
              "      <th>left_eye_inner_corner_y</th>\n",
              "      <td>39.647423</td>\n",
              "      <td>35.274349</td>\n",
              "      <td>36.320968</td>\n",
              "      <td>39.127179</td>\n",
              "    </tr>\n",
              "    <tr>\n",
              "      <th>left_eye_outer_corner_x</th>\n",
              "      <td>73.130346</td>\n",
              "      <td>70.722723</td>\n",
              "      <td>70.984421</td>\n",
              "      <td>72.314713</td>\n",
              "    </tr>\n",
              "    <tr>\n",
              "      <th>left_eye_outer_corner_y</th>\n",
              "      <td>39.969997</td>\n",
              "      <td>36.187166</td>\n",
              "      <td>36.320968</td>\n",
              "      <td>38.380967</td>\n",
              "    </tr>\n",
              "    <tr>\n",
              "      <th>right_eye_inner_corner_x</th>\n",
              "      <td>36.356571</td>\n",
              "      <td>36.034723</td>\n",
              "      <td>37.678105</td>\n",
              "      <td>37.618643</td>\n",
              "    </tr>\n",
              "    <tr>\n",
              "      <th>right_eye_inner_corner_y</th>\n",
              "      <td>37.389402</td>\n",
              "      <td>34.361532</td>\n",
              "      <td>36.320968</td>\n",
              "      <td>38.754115</td>\n",
              "    </tr>\n",
              "    <tr>\n",
              "      <th>right_eye_outer_corner_x</th>\n",
              "      <td>23.452872</td>\n",
              "      <td>24.472511</td>\n",
              "      <td>24.976421</td>\n",
              "      <td>25.307270</td>\n",
              "    </tr>\n",
              "    <tr>\n",
              "      <th>right_eye_outer_corner_y</th>\n",
              "      <td>37.389402</td>\n",
              "      <td>33.144443</td>\n",
              "      <td>36.603221</td>\n",
              "      <td>38.007903</td>\n",
              "    </tr>\n",
              "    <tr>\n",
              "      <th>left_eyebrow_inner_end_x</th>\n",
              "      <td>56.953263</td>\n",
              "      <td>53.987404</td>\n",
              "      <td>55.742526</td>\n",
              "      <td>56.433809</td>\n",
              "    </tr>\n",
              "    <tr>\n",
              "      <th>left_eyebrow_inner_end_y</th>\n",
              "      <td>29.033648</td>\n",
              "      <td>28.275949</td>\n",
              "      <td>27.570947</td>\n",
              "      <td>30.929864</td>\n",
              "    </tr>\n",
              "    <tr>\n",
              "      <th>left_eyebrow_outer_end_x</th>\n",
              "      <td>80.227128</td>\n",
              "      <td>78.634213</td>\n",
              "      <td>78.887368</td>\n",
              "      <td>77.910261</td>\n",
              "    </tr>\n",
              "    <tr>\n",
              "      <th>left_eyebrow_outer_end_y</th>\n",
              "      <td>32.228138</td>\n",
              "      <td>30.405923</td>\n",
              "      <td>32.651621</td>\n",
              "      <td>31.665725</td>\n",
              "    </tr>\n",
              "    <tr>\n",
              "      <th>right_eyebrow_inner_end_x</th>\n",
              "      <td>40.227609</td>\n",
              "      <td>42.728851</td>\n",
              "      <td>42.193895</td>\n",
              "      <td>41.671513</td>\n",
              "    </tr>\n",
              "    <tr>\n",
              "      <th>right_eyebrow_inner_end_y</th>\n",
              "      <td>29.002322</td>\n",
              "      <td>26.146043</td>\n",
              "      <td>28.135453</td>\n",
              "      <td>31.049990</td>\n",
              "    </tr>\n",
              "    <tr>\n",
              "      <th>right_eyebrow_outer_end_x</th>\n",
              "      <td>16.356379</td>\n",
              "      <td>16.865362</td>\n",
              "      <td>16.791158</td>\n",
              "      <td>20.458017</td>\n",
              "    </tr>\n",
              "    <tr>\n",
              "      <th>right_eyebrow_outer_end_y</th>\n",
              "      <td>29.647471</td>\n",
              "      <td>27.058860</td>\n",
              "      <td>32.087116</td>\n",
              "      <td>29.909343</td>\n",
              "    </tr>\n",
              "    <tr>\n",
              "      <th>nose_tip_x</th>\n",
              "      <td>44.420571</td>\n",
              "      <td>48.206298</td>\n",
              "      <td>47.557263</td>\n",
              "      <td>51.885078</td>\n",
              "    </tr>\n",
              "    <tr>\n",
              "      <th>nose_tip_y</th>\n",
              "      <td>57.066803</td>\n",
              "      <td>55.660936</td>\n",
              "      <td>53.538947</td>\n",
              "      <td>54.166539</td>\n",
              "    </tr>\n",
              "    <tr>\n",
              "      <th>mouth_left_corner_x</th>\n",
              "      <td>61.195308</td>\n",
              "      <td>56.421447</td>\n",
              "      <td>60.822947</td>\n",
              "      <td>65.598887</td>\n",
              "    </tr>\n",
              "    <tr>\n",
              "      <th>mouth_left_corner_y</th>\n",
              "      <td>79.970165</td>\n",
              "      <td>76.352000</td>\n",
              "      <td>73.014316</td>\n",
              "      <td>72.703722</td>\n",
              "    </tr>\n",
              "    <tr>\n",
              "      <th>mouth_right_corner_x</th>\n",
              "      <td>28.614496</td>\n",
              "      <td>35.122383</td>\n",
              "      <td>33.726316</td>\n",
              "      <td>37.245496</td>\n",
              "    </tr>\n",
              "    <tr>\n",
              "      <th>mouth_right_corner_y</th>\n",
              "      <td>77.388992</td>\n",
              "      <td>76.047660</td>\n",
              "      <td>72.732000</td>\n",
              "      <td>74.195478</td>\n",
              "    </tr>\n",
              "    <tr>\n",
              "      <th>mouth_center_top_lip_x</th>\n",
              "      <td>43.312602</td>\n",
              "      <td>46.684596</td>\n",
              "      <td>47.274947</td>\n",
              "      <td>50.303165</td>\n",
              "    </tr>\n",
              "    <tr>\n",
              "      <th>mouth_center_top_lip_y</th>\n",
              "      <td>72.935459</td>\n",
              "      <td>70.266553</td>\n",
              "      <td>70.191789</td>\n",
              "      <td>70.091687</td>\n",
              "    </tr>\n",
              "    <tr>\n",
              "      <th>mouth_center_bottom_lip_x</th>\n",
              "      <td>43.130707</td>\n",
              "      <td>45.467915</td>\n",
              "      <td>47.274947</td>\n",
              "      <td>51.561183</td>\n",
              "    </tr>\n",
              "    <tr>\n",
              "      <th>mouth_center_bottom_lip_y</th>\n",
              "      <td>84.485774</td>\n",
              "      <td>85.480170</td>\n",
              "      <td>78.659368</td>\n",
              "      <td>78.268383</td>\n",
              "    </tr>\n",
              "  </tbody>\n",
              "</table>\n",
              "</div>"
            ],
            "text/plain": [
              "                                   0          1          2          3\n",
              "left_eye_center_x          66.033564  64.332936  65.057053  65.225739\n",
              "left_eye_center_y          39.002274  34.970077  34.909642  37.261774\n",
              "right_eye_center_x         30.227008  29.949277  30.903789  32.023096\n",
              "right_eye_center_y         36.421678  33.448715  34.909642  37.261774\n",
              "left_eye_inner_corner_x    59.582075  58.856170  59.412000  60.003339\n",
              "left_eye_inner_corner_y    39.647423  35.274349  36.320968  39.127179\n",
              "left_eye_outer_corner_x    73.130346  70.722723  70.984421  72.314713\n",
              "left_eye_outer_corner_y    39.969997  36.187166  36.320968  38.380967\n",
              "right_eye_inner_corner_x   36.356571  36.034723  37.678105  37.618643\n",
              "right_eye_inner_corner_y   37.389402  34.361532  36.320968  38.754115\n",
              "right_eye_outer_corner_x   23.452872  24.472511  24.976421  25.307270\n",
              "right_eye_outer_corner_y   37.389402  33.144443  36.603221  38.007903\n",
              "left_eyebrow_inner_end_x   56.953263  53.987404  55.742526  56.433809\n",
              "left_eyebrow_inner_end_y   29.033648  28.275949  27.570947  30.929864\n",
              "left_eyebrow_outer_end_x   80.227128  78.634213  78.887368  77.910261\n",
              "left_eyebrow_outer_end_y   32.228138  30.405923  32.651621  31.665725\n",
              "right_eyebrow_inner_end_x  40.227609  42.728851  42.193895  41.671513\n",
              "right_eyebrow_inner_end_y  29.002322  26.146043  28.135453  31.049990\n",
              "right_eyebrow_outer_end_x  16.356379  16.865362  16.791158  20.458017\n",
              "right_eyebrow_outer_end_y  29.647471  27.058860  32.087116  29.909343\n",
              "nose_tip_x                 44.420571  48.206298  47.557263  51.885078\n",
              "nose_tip_y                 57.066803  55.660936  53.538947  54.166539\n",
              "mouth_left_corner_x        61.195308  56.421447  60.822947  65.598887\n",
              "mouth_left_corner_y        79.970165  76.352000  73.014316  72.703722\n",
              "mouth_right_corner_x       28.614496  35.122383  33.726316  37.245496\n",
              "mouth_right_corner_y       77.388992  76.047660  72.732000  74.195478\n",
              "mouth_center_top_lip_x     43.312602  46.684596  47.274947  50.303165\n",
              "mouth_center_top_lip_y     72.935459  70.266553  70.191789  70.091687\n",
              "mouth_center_bottom_lip_x  43.130707  45.467915  47.274947  51.561183\n",
              "mouth_center_bottom_lip_y  84.485774  85.480170  78.659368  78.268383"
            ]
          },
          "metadata": {
            "tags": []
          },
          "execution_count": 160
        }
      ]
    },
    {
      "cell_type": "markdown",
      "metadata": {
        "id": "We9EbcY20E0_",
        "colab_type": "text"
      },
      "source": [
        "For example the first image has the following values for the x - coordinate of each keypoint:"
      ]
    },
    {
      "cell_type": "code",
      "metadata": {
        "id": "S6WZ0oo7z6kq",
        "colab_type": "code",
        "colab": {
          "base_uri": "https://localhost:8080/",
          "height": 322
        },
        "outputId": "7753e3e7-97a1-4135-d108-3504ae2de25d"
      },
      "source": [
        "keypoints.iloc[0,0::2]"
      ],
      "execution_count": 136,
      "outputs": [
        {
          "output_type": "execute_result",
          "data": {
            "text/plain": [
              "left_eye_center_x            66.033564\n",
              "right_eye_center_x           30.227008\n",
              "left_eye_inner_corner_x      59.582075\n",
              "left_eye_outer_corner_x      73.130346\n",
              "right_eye_inner_corner_x     36.356571\n",
              "right_eye_outer_corner_x     23.452872\n",
              "left_eyebrow_inner_end_x     56.953263\n",
              "left_eyebrow_outer_end_x     80.227128\n",
              "right_eyebrow_inner_end_x    40.227609\n",
              "right_eyebrow_outer_end_x    16.356379\n",
              "nose_tip_x                   44.420571\n",
              "mouth_left_corner_x          61.195308\n",
              "mouth_right_corner_x         28.614496\n",
              "mouth_center_top_lip_x       43.312602\n",
              "mouth_center_bottom_lip_x    43.130707\n",
              "Name: 0, dtype: float64"
            ]
          },
          "metadata": {
            "tags": []
          },
          "execution_count": 136
        }
      ]
    },
    {
      "cell_type": "code",
      "metadata": {
        "id": "UPTjF3G4vBoW",
        "colab_type": "code",
        "colab": {}
      },
      "source": [
        "x = keypoints.iloc[7,0::2].values\n",
        "y = keypoints.iloc[7,1::2].values"
      ],
      "execution_count": 0,
      "outputs": []
    },
    {
      "cell_type": "markdown",
      "metadata": {
        "id": "BcWe8_n10Qnv",
        "colab_type": "text"
      },
      "source": [
        "Using matplotlibs function *imshow* we get the image in a gray-scale. Each value of the pixel indicated the color-value. Lets add the relevant keypoints with red dots too:"
      ]
    },
    {
      "cell_type": "code",
      "metadata": {
        "id": "gWNcO1kCkJT2",
        "colab_type": "code",
        "outputId": "0aa561ec-658a-477d-fd68-feb91e008ce8",
        "colab": {
          "base_uri": "https://localhost:8080/",
          "height": 309
        }
      },
      "source": [
        "plt.imshow(X_train[7].reshape(96,96), cmap ='gray')\n",
        "plt.scatter(x, y, c='red',s = 6);"
      ],
      "execution_count": 138,
      "outputs": [
        {
          "output_type": "display_data",
          "data": {
            "image/png": "[encoded data removed]",
            "text/plain": [
              "<Figure size 432x288 with 1 Axes>"
            ]
          },
          "metadata": {
            "tags": []
          }
        }
      ]
    },
    {
      "cell_type": "markdown",
      "metadata": {
        "id": "NOcQWbo90xYr",
        "colab_type": "text"
      },
      "source": [
        "Just like with the image (X_train) we need to get y_train too:"
      ]
    },
    {
      "cell_type": "code",
      "metadata": {
        "id": "5OO7ZxMmvlDz",
        "colab_type": "code",
        "colab": {}
      },
      "source": [
        "y_train = []\n",
        "for i in range(0,7049):\n",
        "    y = keypoints.iloc[i,:]\n",
        "    y_train.append(y)\n",
        "    \n",
        "y_train = np.array(y_train,dtype = 'float')"
      ],
      "execution_count": 0,
      "outputs": []
    },
    {
      "cell_type": "markdown",
      "metadata": {
        "id": "QU9w-JvydmVb",
        "colab_type": "text"
      },
      "source": [
        "A common practice when working with image data is as well rescaling the values:\n",
        "Our images consist in RGB coefficients in the 0-255, but such values are quite high for our models to process, so we divide the values by 255 to get resulting values from 0 to 1. "
      ]
    },
    {
      "cell_type": "code",
      "metadata": {
        "id": "Vv9NK81rbeJo",
        "colab_type": "code",
        "outputId": "02258c38-ec8b-4e98-9def-05db27af330f",
        "colab": {
          "base_uri": "https://localhost:8080/",
          "height": 867
        }
      },
      "source": [
        "# Rescale\n",
        "X_train = X_train/255\n",
        "X_train[1]"
      ],
      "execution_count": 140,
      "outputs": [
        {
          "output_type": "execute_result",
          "data": {
            "text/plain": [
              "array([[[0.85882353],\n",
              "        [0.84313725],\n",
              "        [0.8       ],\n",
              "        ...,\n",
              "        [0.36078431],\n",
              "        [0.34509804],\n",
              "        [0.32941176]],\n",
              "\n",
              "       [[0.87058824],\n",
              "        [0.85882353],\n",
              "        [0.8627451 ],\n",
              "        ...,\n",
              "        [0.36078431],\n",
              "        [0.34509804],\n",
              "        [0.3372549 ]],\n",
              "\n",
              "       [[0.90588235],\n",
              "        [0.87843137],\n",
              "        [0.83137255],\n",
              "        ...,\n",
              "        [0.30196078],\n",
              "        [0.31372549],\n",
              "        [0.32941176]],\n",
              "\n",
              "       ...,\n",
              "\n",
              "       [[0.00392157],\n",
              "        [0.00392157],\n",
              "        [0.00392157],\n",
              "        ...,\n",
              "        [0.00392157],\n",
              "        [0.00392157],\n",
              "        [0.00392157]],\n",
              "\n",
              "       [[0.00392157],\n",
              "        [0.00392157],\n",
              "        [0.00392157],\n",
              "        ...,\n",
              "        [0.00392157],\n",
              "        [0.00392157],\n",
              "        [0.00392157]],\n",
              "\n",
              "       [[0.00392157],\n",
              "        [0.00392157],\n",
              "        [0.00392157],\n",
              "        ...,\n",
              "        [0.00392157],\n",
              "        [0.00392157],\n",
              "        [0.00392157]]])"
            ]
          },
          "metadata": {
            "tags": []
          },
          "execution_count": 140
        }
      ]
    },
    {
      "cell_type": "markdown",
      "metadata": {
        "id": "-WY9CNSAIV0c",
        "colab_type": "text"
      },
      "source": [
        "# Building the Neural Net\n",
        "\n",
        "Just a quick reminder: A neural net consists of an input, some hidden layers and one output layer. Every layer contains several nodes or units that are linked to the previous or next layer by using weights. \n",
        "In the following we are going to use Keras to build the Neural Network. We are using a Sequential model which implies the layers are stacked linearly:\n"
      ]
    },
    {
      "cell_type": "code",
      "metadata": {
        "id": "A-0DjACZWHoB",
        "colab_type": "code",
        "colab": {}
      },
      "source": [
        "from keras.models import Sequential\n",
        "model = Sequential()"
      ],
      "execution_count": 0,
      "outputs": []
    },
    {
      "cell_type": "markdown",
      "metadata": {
        "id": "VZt0u8xTWH7-",
        "colab_type": "text"
      },
      "source": [
        "Now lets add some layers to our model!\n",
        "When working with image data the **Convolutional Neural Network** is a good way to tackle the problem. In contrast to others it is able to preserve the spatial relationship between pixels by small squares of input data. This is done by having a small window hovering over the entire image like this:\n",
        "\n",
        "Instead of using the entire 96x96 image we use a 3x3 window to learn the image features. "
      ]
    },
    {
      "cell_type": "code",
      "metadata": {
        "id": "Of7xWAqjmr81",
        "colab_type": "code",
        "colab": {}
      },
      "source": [
        "from keras.layers import Dense, Conv2D, Flatten, Dropout, MaxPool2D\n",
        "model.add(Conv2D(filters = 48, kernel_size = (3,3), input_shape = (96,96,1), activation = 'relu'))"
      ],
      "execution_count": 0,
      "outputs": []
    },
    {
      "cell_type": "markdown",
      "metadata": {
        "id": "-YrlA4_lWzyN",
        "colab_type": "text"
      },
      "source": [
        "Next we are adding a MaxPooling layer"
      ]
    },
    {
      "cell_type": "code",
      "metadata": {
        "id": "mUwxgd82W1j0",
        "colab_type": "code",
        "colab": {}
      },
      "source": [
        "model.add(MaxPool2D(2,2))"
      ],
      "execution_count": 0,
      "outputs": []
    },
    {
      "cell_type": "markdown",
      "metadata": {
        "id": "Y49_vFJFYblF",
        "colab_type": "text"
      },
      "source": [
        "Flattening is as its name is revealing: converting the matrix into a linear array so we can feed it into the nodes of the output layer.\n",
        "\n"
      ]
    },
    {
      "cell_type": "code",
      "metadata": {
        "id": "vipVXa5CYeFX",
        "colab_type": "code",
        "colab": {}
      },
      "source": [
        "model.add(Flatten())"
      ],
      "execution_count": 0,
      "outputs": []
    },
    {
      "cell_type": "markdown",
      "metadata": {
        "id": "zj8-jfncWkt_",
        "colab_type": "text"
      },
      "source": [
        "Last but not least we define our output layer: As we have 15 keypoints and 2 axis our output layer needs to have 30 units. Dense layers are the regular or core layers of neurons in a neural net meaning every unit recieves input from all the neurons in the previous layer (=densely connected)."
      ]
    },
    {
      "cell_type": "code",
      "metadata": {
        "id": "e9WvrhT1WlFp",
        "colab_type": "code",
        "colab": {
          "base_uri": "https://localhost:8080/",
          "height": 306
        },
        "outputId": "8e4892ea-eb80-4638-e6e2-f14821fcdd89"
      },
      "source": [
        "model.add(Dense(30, activation= 'relu'))\n",
        "model.summary()"
      ],
      "execution_count": 145,
      "outputs": [
        {
          "output_type": "stream",
          "text": [
            "_________________________________________________________________\n",
            "Layer (type)                 Output Shape              Param #   \n",
            "=================================================================\n",
            "conv2d_5 (Conv2D)            (None, 94, 94, 48)        480       \n",
            "_________________________________________________________________\n",
            "max_pooling2d_4 (MaxPooling2 (None, 47, 47, 48)        0         \n",
            "_________________________________________________________________\n",
            "flatten_4 (Flatten)          (None, 106032)            0         \n",
            "_________________________________________________________________\n",
            "dense_6 (Dense)              (None, 30)                3180990   \n",
            "=================================================================\n",
            "Total params: 3,181,470\n",
            "Trainable params: 3,181,470\n",
            "Non-trainable params: 0\n",
            "_________________________________________________________________\n"
          ],
          "name": "stdout"
        }
      ]
    },
    {
      "cell_type": "markdown",
      "metadata": {
        "id": "vFQgiBPWW7fA",
        "colab_type": "text"
      },
      "source": [
        "Before fitting the model to our train data we need to compile it. This contains three components:\n",
        "1. Optimizer used\n",
        "2. Loss-Function of the model: MSE which we are trying to minimize\n",
        "3. Metrics to evaluate the performance of the model."
      ]
    },
    {
      "cell_type": "code",
      "metadata": {
        "id": "bD-_TgKTvEP-",
        "colab_type": "code",
        "colab": {}
      },
      "source": [
        "model.compile(optimizer = 'adam', loss = 'mse', metrics = ['acc'])"
      ],
      "execution_count": 0,
      "outputs": []
    },
    {
      "cell_type": "markdown",
      "metadata": {
        "id": "Sj3kzParXCxI",
        "colab_type": "text"
      },
      "source": [
        "To speed up the process and prevent overfitting we add the Early Stopping function: If the validation accuracy does not improve in 10 epochs, we are going to stop training the model."
      ]
    },
    {
      "cell_type": "code",
      "metadata": {
        "id": "OL3gFsgOXAHE",
        "colab_type": "code",
        "colab": {}
      },
      "source": [
        "from keras.callbacks import EarlyStopping\n",
        "early_stopping = EarlyStopping(monitor='val_acc', patience=10)"
      ],
      "execution_count": 0,
      "outputs": []
    },
    {
      "cell_type": "code",
      "metadata": {
        "id": "BV5hu2VMm85M",
        "colab_type": "code",
        "outputId": "f91a04e9-92ea-43bb-c3be-c0fa50570056",
        "colab": {
          "base_uri": "https://localhost:8080/",
          "height": 873
        }
      },
      "source": [
        "epoch = 200\n",
        "develop= model.fit(X_train,y_train,epochs = epoch,batch_size = 64, validation_split = 0.2, verbose = 2, callbacks = [early_stopping] )\n",
        "develop # 128"
      ],
      "execution_count": 166,
      "outputs": [
        {
          "output_type": "stream",
          "text": [
            "Train on 5639 samples, validate on 1410 samples\n",
            "Epoch 1/200\n",
            " - 64s - loss: 53.1013 - acc: 0.7877 - val_loss: 54.2091 - val_acc: 0.7397\n",
            "Epoch 2/200\n",
            " - 63s - loss: 53.0631 - acc: 0.7842 - val_loss: 53.3283 - val_acc: 0.7270\n",
            "Epoch 3/200\n",
            " - 64s - loss: 53.2691 - acc: 0.7867 - val_loss: 53.5269 - val_acc: 0.7326\n",
            "Epoch 4/200\n",
            " - 64s - loss: 52.9164 - acc: 0.7868 - val_loss: 54.0781 - val_acc: 0.7340\n",
            "Epoch 5/200\n",
            " - 64s - loss: 52.7362 - acc: 0.7936 - val_loss: 54.8299 - val_acc: 0.7411\n",
            "Epoch 6/200\n",
            " - 65s - loss: 52.7643 - acc: 0.7902 - val_loss: 53.5597 - val_acc: 0.7411\n",
            "Epoch 7/200\n",
            " - 65s - loss: 52.6434 - acc: 0.7969 - val_loss: 53.8146 - val_acc: 0.7454\n",
            "Epoch 8/200\n",
            " - 64s - loss: 52.6730 - acc: 0.8019 - val_loss: 53.3688 - val_acc: 0.7418\n",
            "Epoch 9/200\n",
            " - 63s - loss: 52.5457 - acc: 0.7955 - val_loss: 54.4027 - val_acc: 0.7539\n",
            "Epoch 10/200\n",
            " - 65s - loss: 52.5006 - acc: 0.7930 - val_loss: 54.1558 - val_acc: 0.7156\n",
            "Epoch 11/200\n",
            " - 66s - loss: 52.4717 - acc: 0.7939 - val_loss: 53.3213 - val_acc: 0.7383\n",
            "Epoch 12/200\n",
            " - 66s - loss: 52.3538 - acc: 0.7978 - val_loss: 54.2719 - val_acc: 0.7496\n",
            "Epoch 13/200\n",
            " - 63s - loss: 52.2318 - acc: 0.8039 - val_loss: 53.9776 - val_acc: 0.7262\n",
            "Epoch 14/200\n",
            " - 65s - loss: 52.2204 - acc: 0.8044 - val_loss: 53.7365 - val_acc: 0.7539\n",
            "Epoch 15/200\n",
            " - 65s - loss: 52.1952 - acc: 0.8010 - val_loss: 53.1614 - val_acc: 0.7461\n",
            "Epoch 16/200\n",
            " - 65s - loss: 52.1551 - acc: 0.8010 - val_loss: 54.1258 - val_acc: 0.7404\n",
            "Epoch 17/200\n",
            " - 65s - loss: 52.1386 - acc: 0.8118 - val_loss: 53.7507 - val_acc: 0.7270\n",
            "Epoch 18/200\n",
            " - 65s - loss: 52.2049 - acc: 0.8009 - val_loss: 53.6514 - val_acc: 0.7340\n",
            "Epoch 19/200\n",
            " - 63s - loss: 51.9474 - acc: 0.8103 - val_loss: 53.3905 - val_acc: 0.7447\n"
          ],
          "name": "stdout"
        },
        {
          "output_type": "execute_result",
          "data": {
            "text/plain": [
              "<keras.callbacks.History at 0x7f49bea19e80>"
            ]
          },
          "metadata": {
            "tags": []
          },
          "execution_count": 166
        }
      ]
    },
    {
      "cell_type": "code",
      "metadata": {
        "id": "Og2V4NInK2vX",
        "colab_type": "code",
        "colab": {
          "base_uri": "https://localhost:8080/",
          "height": 1020
        },
        "outputId": "273472fd-4cef-48ad-b1e1-d6caaeea8c42"
      },
      "source": [
        "train_loss, train_acc = model.evaluate(X_train,y_train)\n",
        "train_acc"
      ],
      "execution_count": 179,
      "outputs": [
        {
          "output_type": "stream",
          "text": [
            "7049/7049 [==============================] - 18s 3ms/step\n"
          ],
          "name": "stdout"
        },
        {
          "output_type": "execute_result",
          "data": {
            "text/plain": [
              "0.7886224996537955"
            ]
          },
          "metadata": {
            "tags": []
          },
          "execution_count": 179
        }
      ]
    },
    {
      "cell_type": "markdown",
      "metadata": {
        "id": "enEDCGGxK2Vo",
        "colab_type": "text"
      },
      "source": [
        "The history of the model is stored within the develop.history - but as this is not very easy to compare, let's make some graphs out of it:"
      ]
    },
    {
      "cell_type": "code",
      "metadata": {
        "id": "d2EZZMVuJV5A",
        "colab_type": "code",
        "colab": {
          "base_uri": "https://localhost:8080/",
          "height": 94
        },
        "outputId": "8ccc36ec-ea1b-4fe2-ec5a-157e3b4f8971"
      },
      "source": [
        "# Variable catching the number of epochs\n",
        "epoch_len = max(develop.epoch)+2\n",
        "epoch_len"
      ],
      "execution_count": 168,
      "outputs": [
        {
          "output_type": "execute_result",
          "data": {
            "text/plain": [
              "20"
            ]
          },
          "metadata": {
            "tags": []
          },
          "execution_count": 168
        }
      ]
    },
    {
      "cell_type": "code",
      "metadata": {
        "id": "QoRblV02YKDy",
        "colab_type": "code",
        "outputId": "f5b94384-08a8-4737-da14-6a7ca930f8da",
        "colab": {
          "base_uri": "https://localhost:8080/",
          "height": 323
        }
      },
      "source": [
        "loss=develop.history['loss']\n",
        "val_loss=develop.history['val_loss']\n",
        "y=np.arange(1,(epoch_len))\n",
        "plt.plot(y,loss,'b',label='train')\n",
        "plt.plot(y,val_loss,'r',label='val')\n",
        "plt.xlabel('epoch')\n",
        "plt.ylabel('loss')\n",
        "plt.legend();"
      ],
      "execution_count": 150,
      "outputs": [
        {
          "output_type": "display_data",
          "data": {
            "image/png": "[encoded data removed]",
            "text/plain": [
              "<Figure size 432x288 with 1 Axes>"
            ]
          },
          "metadata": {
            "tags": []
          }
        }
      ]
    },
    {
      "cell_type": "code",
      "metadata": {
        "id": "u4KFESK4huWW",
        "colab_type": "code",
        "colab": {}
      },
      "source": [
        "y=np.arange(1,(epoch_len))\n",
        "y"
      ],
      "execution_count": 0,
      "outputs": []
    },
    {
      "cell_type": "code",
      "metadata": {
        "id": "zIx46J5ReRFs",
        "colab_type": "code",
        "colab": {
          "base_uri": "https://localhost:8080/",
          "height": 343
        },
        "outputId": "e152a185-2111-482d-d3b5-5be3cc22efea"
      },
      "source": [
        "acc=develop.history['acc']\n",
        "val_acc=develop.history['val_acc']\n",
        "y=np.arange(1,(epoch_len))\n",
        "plt.plot(y,acc,'b',label='training')\n",
        "plt.plot(y,val_acc,'r',label='validation')\n",
        "plt.xlabel('epoch')\n",
        "plt.ylabel('accuracy')\n",
        "plt.legend();"
      ],
      "execution_count": 178,
      "outputs": [
        {
          "output_type": "display_data",
          "data": {
            "image/png": "[encoded data removed]",
            "text/plain": [
              "<Figure size 432x288 with 1 Axes>"
            ]
          },
          "metadata": {
            "tags": []
          }
        }
      ]
    },
    {
      "cell_type": "code",
      "metadata": {
        "id": "D8S7gQevxhs2",
        "colab_type": "code",
        "colab": {}
      },
      "source": [
        "model.save('FacialKeypoints.h5')"
      ],
      "execution_count": 0,
      "outputs": []
    },
    {
      "cell_type": "markdown",
      "metadata": {
        "id": "HJczXVH5Jxfx",
        "colab_type": "text"
      },
      "source": [
        "#Predicting "
      ]
    },
    {
      "cell_type": "code",
      "metadata": {
        "id": "FoiVSaUtbEP8",
        "colab_type": "code",
        "outputId": "5b48e76f-fece-459e-8559-3d943b816b76",
        "colab": {
          "base_uri": "https://localhost:8080/",
          "height": 74
        }
      },
      "source": [
        "test.head()\n",
        "test.shape"
      ],
      "execution_count": 153,
      "outputs": [
        {
          "output_type": "execute_result",
          "data": {
            "text/plain": [
              "(1783, 2)"
            ]
          },
          "metadata": {
            "tags": []
          },
          "execution_count": 153
        }
      ]
    },
    {
      "cell_type": "code",
      "metadata": {
        "id": "wqB0dCHcYnfH",
        "colab_type": "code",
        "outputId": "5aadf741-7973-4bba-c55a-07c147a7d27d",
        "colab": {
          "base_uri": "https://localhost:8080/",
          "height": 74
        }
      },
      "source": [
        "images = []\n",
        "for i in range(0,1783):\n",
        "    image = test['Image'][i].split(' ')\n",
        "    images.append(image)\n",
        "    \n",
        "images = np.array(images,dtype = 'float')\n",
        "X_test = images.reshape(-1,96,96,1)\n",
        "X_test.shape"
      ],
      "execution_count": 154,
      "outputs": [
        {
          "output_type": "execute_result",
          "data": {
            "text/plain": [
              "(1783, 96, 96, 1)"
            ]
          },
          "metadata": {
            "tags": []
          },
          "execution_count": 154
        }
      ]
    },
    {
      "cell_type": "code",
      "metadata": {
        "id": "b7YVAM78YupU",
        "colab_type": "code",
        "colab": {}
      },
      "source": [
        "predictions = model.predict(X_test/255)"
      ],
      "execution_count": 0,
      "outputs": []
    },
    {
      "cell_type": "code",
      "metadata": {
        "id": "jEs4toRRbXrQ",
        "colab_type": "code",
        "colab": {}
      },
      "source": [
        "predictions = pd.DataFrame(predictions)"
      ],
      "execution_count": 0,
      "outputs": []
    },
    {
      "cell_type": "code",
      "metadata": {
        "id": "U96GAILOQHFP",
        "colab_type": "code",
        "outputId": "50fafaa4-2663-47f4-89a0-11a7e226c2f4",
        "colab": {
          "base_uri": "https://localhost:8080/",
          "height": 309
        }
      },
      "source": [
        "x = predictions.iloc[0,0::2].values\n",
        "y = predictions.iloc[0,1::2].values\n",
        "\n",
        "plt.imshow(X_test[0].reshape(96,96), cmap ='gray')\n",
        "plt.scatter(x, y, c='red',s = 5);"
      ],
      "execution_count": 157,
      "outputs": [
        {
          "output_type": "display_data",
          "data": {
            "image/png": "[encoded data removed]",
            "text/plain": [
              "<Figure size 432x288 with 1 Axes>"
            ]
          },
          "metadata": {
            "tags": []
          }
        }
      ]
    },
    {
      "cell_type": "code",
      "metadata": {
        "id": "7BgoLv3IklO9",
        "colab_type": "code",
        "colab": {}
      },
      "source": [
        "model.save('FacialKeypoints.h5')"
      ],
      "execution_count": 0,
      "outputs": []
    },
    {
      "cell_type": "code",
      "metadata": {
        "id": "7Sazsc1Lkoh8",
        "colab_type": "code",
        "colab": {}
      },
      "source": [
        "from keras.models import load_model\n",
        "# model = load_model('FacialKeypoints.h5')"
      ],
      "execution_count": 0,
      "outputs": []
    },
    {
      "cell_type": "markdown",
      "metadata": {
        "id": "jSvSDNnnxI9n",
        "colab_type": "text"
      },
      "source": [
        "# Outlook\n",
        "\n",
        "We could try to build a more sophisticated Neural Net, but this notebook aimed to get a general understanding rather than achieving the highest accuracy. Nonetheless, here are some ideas on how to improve the performance:\n",
        "\n",
        "* Changing the number of convolutional layers and their number of nodes\n",
        "\n",
        "* Tuning hyper-parameters like activation functions\n"
      ]
    }
  ]
}